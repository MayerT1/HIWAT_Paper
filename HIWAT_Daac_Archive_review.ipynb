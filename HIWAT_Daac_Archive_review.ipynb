{
  "nbformat": 4,
  "nbformat_minor": 0,
  "metadata": {
    "colab": {
      "provenance": [],
      "authorship_tag": "ABX9TyNZxd6nGaRtOMpAQ9eL5z2F",
      "include_colab_link": true
    },
    "kernelspec": {
      "name": "python3",
      "display_name": "Python 3"
    },
    "language_info": {
      "name": "python"
    }
  },
  "cells": [
    {
      "cell_type": "markdown",
      "metadata": {
        "id": "view-in-github",
        "colab_type": "text"
      },
      "source": [
        "<a href=\"https://colab.research.google.com/github/MayerT1/HIWAT_Paper/blob/main/HIWAT_Daac_Archive_review.ipynb\" target=\"_parent\"><img src=\"https://colab.research.google.com/assets/colab-badge.svg\" alt=\"Open In Colab\"/></a>"
      ]
    },
    {
      "cell_type": "code",
      "source": [
        "!pip install netCDF4"
      ],
      "metadata": {
        "colab": {
          "base_uri": "https://localhost:8080/"
        },
        "id": "p3q7XLl1o8cM",
        "outputId": "b16bf38f-8c9c-42a9-ca38-b312f99972f2"
      },
      "execution_count": null,
      "outputs": [
        {
          "output_type": "stream",
          "name": "stdout",
          "text": [
            "Collecting netCDF4\n",
            "  Downloading netCDF4-1.7.1.post1-cp310-cp310-manylinux_2_17_x86_64.manylinux2014_x86_64.whl (9.0 MB)\n",
            "\u001b[2K     \u001b[90m━━━━━━━━━━━━━━━━━━━━━━━━━━━━━━━━━━━━━━━━\u001b[0m \u001b[32m9.0/9.0 MB\u001b[0m \u001b[31m46.5 MB/s\u001b[0m eta \u001b[36m0:00:00\u001b[0m\n",
            "\u001b[?25hCollecting cftime (from netCDF4)\n",
            "  Downloading cftime-1.6.4-cp310-cp310-manylinux_2_17_x86_64.manylinux2014_x86_64.whl (1.3 MB)\n",
            "\u001b[2K     \u001b[90m━━━━━━━━━━━━━━━━━━━━━━━━━━━━━━━━━━━━━━━━\u001b[0m \u001b[32m1.3/1.3 MB\u001b[0m \u001b[31m63.1 MB/s\u001b[0m eta \u001b[36m0:00:00\u001b[0m\n",
            "\u001b[?25hRequirement already satisfied: certifi in /usr/local/lib/python3.10/dist-packages (from netCDF4) (2024.6.2)\n",
            "Requirement already satisfied: numpy in /usr/local/lib/python3.10/dist-packages (from netCDF4) (1.25.2)\n",
            "Installing collected packages: cftime, netCDF4\n",
            "Successfully installed cftime-1.6.4 netCDF4-1.7.1.post1\n"
          ]
        }
      ]
    },
    {
      "cell_type": "code",
      "execution_count": null,
      "metadata": {
        "id": "1ZaJd70pocuj"
      },
      "outputs": [],
      "source": [
        "import netCDF4"
      ]
    },
    {
      "cell_type": "code",
      "source": [
        "dset = netCDF4.Dataset('wrfout_d02_ens3_2022_09_30_2022-10-02_18-00-00.nc')"
      ],
      "metadata": {
        "id": "KEO8HDlkoy2t"
      },
      "execution_count": null,
      "outputs": []
    },
    {
      "cell_type": "code",
      "source": [
        "dset.variables.keys()"
      ],
      "metadata": {
        "id": "H8xQfX-Uo0lN"
      },
      "execution_count": null,
      "outputs": []
    },
    {
      "cell_type": "code",
      "source": [
        "list(dset.variables)\n"
      ],
      "metadata": {
        "id": "3ZZsKiiGsJNZ"
      },
      "execution_count": null,
      "outputs": []
    },
    {
      "cell_type": "code",
      "source": [
        "var_list = list(dset.variables)"
      ],
      "metadata": {
        "id": "iDCaRmnHpHCC"
      },
      "execution_count": null,
      "outputs": []
    },
    {
      "cell_type": "code",
      "source": [
        "\n",
        "for x in var_list:\n",
        "  x_1 = dset.variables[x]\n",
        "  print(x_1)\n"
      ],
      "metadata": {
        "id": "O4BmeFjAp5Wn"
      },
      "execution_count": null,
      "outputs": []
    },
    {
      "cell_type": "code",
      "source": [
        "BR = dset.variables['BR'] # temperature variable\n",
        "print(BR)"
      ],
      "metadata": {
        "id": "P2O4qxjBpeDC"
      },
      "execution_count": null,
      "outputs": []
    },
    {
      "cell_type": "markdown",
      "source": [
        "break -grb"
      ],
      "metadata": {
        "id": "Gk2tN03pve4R"
      }
    },
    {
      "cell_type": "markdown",
      "source": [
        "https://jswhit.github.io/pygrib/api.html#example-usage"
      ],
      "metadata": {
        "id": "RuoV-3A_wuZc"
      }
    },
    {
      "cell_type": "code",
      "source": [
        "!pip install pygrib"
      ],
      "metadata": {
        "colab": {
          "base_uri": "https://localhost:8080/"
        },
        "id": "NJMRJdw1v9Yg",
        "outputId": "4919d255-1b12-4a22-e44f-fd807c0b1f07"
      },
      "execution_count": 25,
      "outputs": [
        {
          "output_type": "stream",
          "name": "stdout",
          "text": [
            "Collecting pygrib\n",
            "  Downloading pygrib-2.1.5-cp310-cp310-manylinux_2_17_x86_64.manylinux2014_x86_64.whl (18.1 MB)\n",
            "\u001b[2K     \u001b[90m━━━━━━━━━━━━━━━━━━━━━━━━━━━━━━━━━━━━━━━━\u001b[0m \u001b[32m18.1/18.1 MB\u001b[0m \u001b[31m40.1 MB/s\u001b[0m eta \u001b[36m0:00:00\u001b[0m\n",
            "\u001b[?25hRequirement already satisfied: pyproj in /usr/local/lib/python3.10/dist-packages (from pygrib) (3.6.1)\n",
            "Requirement already satisfied: setuptools in /usr/local/lib/python3.10/dist-packages (from pygrib) (67.7.2)\n",
            "Requirement already satisfied: numpy in /usr/local/lib/python3.10/dist-packages (from pygrib) (1.25.2)\n",
            "Requirement already satisfied: certifi in /usr/local/lib/python3.10/dist-packages (from pyproj->pygrib) (2024.6.2)\n",
            "Installing collected packages: pygrib\n",
            "Successfully installed pygrib-2.1.5\n"
          ]
        }
      ]
    },
    {
      "cell_type": "code",
      "source": [
        "import pygrib"
      ],
      "metadata": {
        "id": "wVi6-8lZv4vL"
      },
      "execution_count": 26,
      "outputs": []
    },
    {
      "cell_type": "code",
      "source": [
        "grbs = pygrib.open(\"/content/HKH3_2209301200_wrfout_arw_d02.grb2f5400\")"
      ],
      "metadata": {
        "id": "-zGhiQrvwEC_"
      },
      "execution_count": 41,
      "outputs": []
    },
    {
      "cell_type": "code",
      "source": [
        "grbs.seek(0)\n",
        "for grb in grbs:\n",
        "    print(grb)"
      ],
      "metadata": {
        "colab": {
          "base_uri": "https://localhost:8080/"
        },
        "id": "2O9dnle3zRzm",
        "outputId": "830fed78-f609-4ec0-e4a2-c9b469ac4374"
      },
      "execution_count": 47,
      "outputs": [
        {
          "output_type": "stream",
          "name": "stdout",
          "text": [
            "1:Geopotential height:gpm (instant):lambert:isobaricInhPa:level 10000 Pa:fcst time 54 hrs:from 202209301200\n",
            "2:Temperature:K (instant):lambert:isobaricInhPa:level 10000 Pa:fcst time 54 hrs:from 202209301200\n",
            "3:Relative humidity:% (instant):lambert:isobaricInhPa:level 10000 Pa:fcst time 54 hrs:from 202209301200\n",
            "4:U component of wind:m s**-1 (instant):lambert:isobaricInhPa:level 10000 Pa:fcst time 54 hrs:from 202209301200\n",
            "5:V component of wind:m s**-1 (instant):lambert:isobaricInhPa:level 10000 Pa:fcst time 54 hrs:from 202209301200\n",
            "6:Vertical velocity:Pa s**-1 (instant):lambert:isobaricInhPa:level 10000 Pa:fcst time 54 hrs:from 202209301200\n",
            "7:4:4 (instant):lambert:isobaricInhPa:level 10000 Pa:fcst time 54 hrs:from 202209301200\n",
            "8:Total Cloud Cover:% (instant):lambert:isobaricInhPa:level 10000 Pa:fcst time 54 hrs:from 202209301200\n",
            "9:Geopotential height:gpm (instant):lambert:isobaricInhPa:level 20000 Pa:fcst time 54 hrs:from 202209301200\n",
            "10:Temperature:K (instant):lambert:isobaricInhPa:level 20000 Pa:fcst time 54 hrs:from 202209301200\n",
            "11:Dew point temperature:K (instant):lambert:isobaricInhPa:level 20000 Pa:fcst time 54 hrs:from 202209301200\n",
            "12:Relative humidity:% (instant):lambert:isobaricInhPa:level 20000 Pa:fcst time 54 hrs:from 202209301200\n",
            "13:U component of wind:m s**-1 (instant):lambert:isobaricInhPa:level 20000 Pa:fcst time 54 hrs:from 202209301200\n",
            "14:V component of wind:m s**-1 (instant):lambert:isobaricInhPa:level 20000 Pa:fcst time 54 hrs:from 202209301200\n",
            "15:Vertical velocity:Pa s**-1 (instant):lambert:isobaricInhPa:level 20000 Pa:fcst time 54 hrs:from 202209301200\n",
            "16:4:4 (instant):lambert:isobaricInhPa:level 20000 Pa:fcst time 54 hrs:from 202209301200\n",
            "17:Total Cloud Cover:% (instant):lambert:isobaricInhPa:level 20000 Pa:fcst time 54 hrs:from 202209301200\n",
            "18:Geopotential height:gpm (instant):lambert:isobaricInhPa:level 25000 Pa:fcst time 54 hrs:from 202209301200\n",
            "19:Temperature:K (instant):lambert:isobaricInhPa:level 25000 Pa:fcst time 54 hrs:from 202209301200\n",
            "20:Dew point temperature:K (instant):lambert:isobaricInhPa:level 25000 Pa:fcst time 54 hrs:from 202209301200\n",
            "21:Relative humidity:% (instant):lambert:isobaricInhPa:level 25000 Pa:fcst time 54 hrs:from 202209301200\n",
            "22:U component of wind:m s**-1 (instant):lambert:isobaricInhPa:level 25000 Pa:fcst time 54 hrs:from 202209301200\n",
            "23:V component of wind:m s**-1 (instant):lambert:isobaricInhPa:level 25000 Pa:fcst time 54 hrs:from 202209301200\n",
            "24:Vertical velocity:Pa s**-1 (instant):lambert:isobaricInhPa:level 25000 Pa:fcst time 54 hrs:from 202209301200\n",
            "25:4:4 (instant):lambert:isobaricInhPa:level 25000 Pa:fcst time 54 hrs:from 202209301200\n",
            "26:Total Cloud Cover:% (instant):lambert:isobaricInhPa:level 25000 Pa:fcst time 54 hrs:from 202209301200\n",
            "27:Geopotential height:gpm (instant):lambert:isobaricInhPa:level 30000 Pa:fcst time 54 hrs:from 202209301200\n",
            "28:Temperature:K (instant):lambert:isobaricInhPa:level 30000 Pa:fcst time 54 hrs:from 202209301200\n",
            "29:Dew point temperature:K (instant):lambert:isobaricInhPa:level 30000 Pa:fcst time 54 hrs:from 202209301200\n",
            "30:Relative humidity:% (instant):lambert:isobaricInhPa:level 30000 Pa:fcst time 54 hrs:from 202209301200\n",
            "31:U component of wind:m s**-1 (instant):lambert:isobaricInhPa:level 30000 Pa:fcst time 54 hrs:from 202209301200\n",
            "32:V component of wind:m s**-1 (instant):lambert:isobaricInhPa:level 30000 Pa:fcst time 54 hrs:from 202209301200\n",
            "33:Vertical velocity:Pa s**-1 (instant):lambert:isobaricInhPa:level 30000 Pa:fcst time 54 hrs:from 202209301200\n",
            "34:4:4 (instant):lambert:isobaricInhPa:level 30000 Pa:fcst time 54 hrs:from 202209301200\n",
            "35:Total Cloud Cover:% (instant):lambert:isobaricInhPa:level 30000 Pa:fcst time 54 hrs:from 202209301200\n",
            "36:Geopotential height:gpm (instant):lambert:isobaricInhPa:level 40000 Pa:fcst time 54 hrs:from 202209301200\n",
            "37:Temperature:K (instant):lambert:isobaricInhPa:level 40000 Pa:fcst time 54 hrs:from 202209301200\n",
            "38:Dew point temperature:K (instant):lambert:isobaricInhPa:level 40000 Pa:fcst time 54 hrs:from 202209301200\n",
            "39:Relative humidity:% (instant):lambert:isobaricInhPa:level 40000 Pa:fcst time 54 hrs:from 202209301200\n",
            "40:U component of wind:m s**-1 (instant):lambert:isobaricInhPa:level 40000 Pa:fcst time 54 hrs:from 202209301200\n",
            "41:V component of wind:m s**-1 (instant):lambert:isobaricInhPa:level 40000 Pa:fcst time 54 hrs:from 202209301200\n",
            "42:Vertical velocity:Pa s**-1 (instant):lambert:isobaricInhPa:level 40000 Pa:fcst time 54 hrs:from 202209301200\n",
            "43:4:4 (instant):lambert:isobaricInhPa:level 40000 Pa:fcst time 54 hrs:from 202209301200\n",
            "44:Total Cloud Cover:% (instant):lambert:isobaricInhPa:level 40000 Pa:fcst time 54 hrs:from 202209301200\n",
            "45:Geopotential height:gpm (instant):lambert:isobaricInhPa:level 50000 Pa:fcst time 54 hrs:from 202209301200\n",
            "46:Temperature:K (instant):lambert:isobaricInhPa:level 50000 Pa:fcst time 54 hrs:from 202209301200\n",
            "47:Dew point temperature:K (instant):lambert:isobaricInhPa:level 50000 Pa:fcst time 54 hrs:from 202209301200\n",
            "48:Relative humidity:% (instant):lambert:isobaricInhPa:level 50000 Pa:fcst time 54 hrs:from 202209301200\n",
            "49:U component of wind:m s**-1 (instant):lambert:isobaricInhPa:level 50000 Pa:fcst time 54 hrs:from 202209301200\n",
            "50:V component of wind:m s**-1 (instant):lambert:isobaricInhPa:level 50000 Pa:fcst time 54 hrs:from 202209301200\n",
            "51:Vertical velocity:Pa s**-1 (instant):lambert:isobaricInhPa:level 50000 Pa:fcst time 54 hrs:from 202209301200\n",
            "52:4:4 (instant):lambert:isobaricInhPa:level 50000 Pa:fcst time 54 hrs:from 202209301200\n",
            "53:Total Cloud Cover:% (instant):lambert:isobaricInhPa:level 50000 Pa:fcst time 54 hrs:from 202209301200\n",
            "54:Geopotential height:gpm (instant):lambert:isobaricInhPa:level 55000 Pa:fcst time 54 hrs:from 202209301200\n",
            "55:Temperature:K (instant):lambert:isobaricInhPa:level 55000 Pa:fcst time 54 hrs:from 202209301200\n",
            "56:Dew point temperature:K (instant):lambert:isobaricInhPa:level 55000 Pa:fcst time 54 hrs:from 202209301200\n",
            "57:Relative humidity:% (instant):lambert:isobaricInhPa:level 55000 Pa:fcst time 54 hrs:from 202209301200\n",
            "58:U component of wind:m s**-1 (instant):lambert:isobaricInhPa:level 55000 Pa:fcst time 54 hrs:from 202209301200\n",
            "59:V component of wind:m s**-1 (instant):lambert:isobaricInhPa:level 55000 Pa:fcst time 54 hrs:from 202209301200\n",
            "60:Vertical velocity:Pa s**-1 (instant):lambert:isobaricInhPa:level 55000 Pa:fcst time 54 hrs:from 202209301200\n",
            "61:4:4 (instant):lambert:isobaricInhPa:level 55000 Pa:fcst time 54 hrs:from 202209301200\n",
            "62:Total Cloud Cover:% (instant):lambert:isobaricInhPa:level 55000 Pa:fcst time 54 hrs:from 202209301200\n",
            "63:Geopotential height:gpm (instant):lambert:isobaricInhPa:level 60000 Pa:fcst time 54 hrs:from 202209301200\n",
            "64:Temperature:K (instant):lambert:isobaricInhPa:level 60000 Pa:fcst time 54 hrs:from 202209301200\n",
            "65:Dew point temperature:K (instant):lambert:isobaricInhPa:level 60000 Pa:fcst time 54 hrs:from 202209301200\n",
            "66:Relative humidity:% (instant):lambert:isobaricInhPa:level 60000 Pa:fcst time 54 hrs:from 202209301200\n",
            "67:U component of wind:m s**-1 (instant):lambert:isobaricInhPa:level 60000 Pa:fcst time 54 hrs:from 202209301200\n",
            "68:V component of wind:m s**-1 (instant):lambert:isobaricInhPa:level 60000 Pa:fcst time 54 hrs:from 202209301200\n",
            "69:Vertical velocity:Pa s**-1 (instant):lambert:isobaricInhPa:level 60000 Pa:fcst time 54 hrs:from 202209301200\n",
            "70:4:4 (instant):lambert:isobaricInhPa:level 60000 Pa:fcst time 54 hrs:from 202209301200\n",
            "71:Total Cloud Cover:% (instant):lambert:isobaricInhPa:level 60000 Pa:fcst time 54 hrs:from 202209301200\n",
            "72:Geopotential height:gpm (instant):lambert:isobaricInhPa:level 65000 Pa:fcst time 54 hrs:from 202209301200\n",
            "73:Temperature:K (instant):lambert:isobaricInhPa:level 65000 Pa:fcst time 54 hrs:from 202209301200\n",
            "74:Dew point temperature:K (instant):lambert:isobaricInhPa:level 65000 Pa:fcst time 54 hrs:from 202209301200\n",
            "75:Relative humidity:% (instant):lambert:isobaricInhPa:level 65000 Pa:fcst time 54 hrs:from 202209301200\n",
            "76:U component of wind:m s**-1 (instant):lambert:isobaricInhPa:level 65000 Pa:fcst time 54 hrs:from 202209301200\n",
            "77:V component of wind:m s**-1 (instant):lambert:isobaricInhPa:level 65000 Pa:fcst time 54 hrs:from 202209301200\n",
            "78:Vertical velocity:Pa s**-1 (instant):lambert:isobaricInhPa:level 65000 Pa:fcst time 54 hrs:from 202209301200\n",
            "79:4:4 (instant):lambert:isobaricInhPa:level 65000 Pa:fcst time 54 hrs:from 202209301200\n",
            "80:Total Cloud Cover:% (instant):lambert:isobaricInhPa:level 65000 Pa:fcst time 54 hrs:from 202209301200\n",
            "81:Geopotential height:gpm (instant):lambert:isobaricInhPa:level 70000 Pa:fcst time 54 hrs:from 202209301200\n",
            "82:Temperature:K (instant):lambert:isobaricInhPa:level 70000 Pa:fcst time 54 hrs:from 202209301200\n",
            "83:Dew point temperature:K (instant):lambert:isobaricInhPa:level 70000 Pa:fcst time 54 hrs:from 202209301200\n",
            "84:Relative humidity:% (instant):lambert:isobaricInhPa:level 70000 Pa:fcst time 54 hrs:from 202209301200\n",
            "85:U component of wind:m s**-1 (instant):lambert:isobaricInhPa:level 70000 Pa:fcst time 54 hrs:from 202209301200\n",
            "86:V component of wind:m s**-1 (instant):lambert:isobaricInhPa:level 70000 Pa:fcst time 54 hrs:from 202209301200\n",
            "87:Vertical velocity:Pa s**-1 (instant):lambert:isobaricInhPa:level 70000 Pa:fcst time 54 hrs:from 202209301200\n",
            "88:4:4 (instant):lambert:isobaricInhPa:level 70000 Pa:fcst time 54 hrs:from 202209301200\n",
            "89:Total Cloud Cover:% (instant):lambert:isobaricInhPa:level 70000 Pa:fcst time 54 hrs:from 202209301200\n",
            "90:Geopotential height:gpm (instant):lambert:isobaricInhPa:level 75000 Pa:fcst time 54 hrs:from 202209301200\n",
            "91:Temperature:K (instant):lambert:isobaricInhPa:level 75000 Pa:fcst time 54 hrs:from 202209301200\n",
            "92:Dew point temperature:K (instant):lambert:isobaricInhPa:level 75000 Pa:fcst time 54 hrs:from 202209301200\n",
            "93:Relative humidity:% (instant):lambert:isobaricInhPa:level 75000 Pa:fcst time 54 hrs:from 202209301200\n",
            "94:U component of wind:m s**-1 (instant):lambert:isobaricInhPa:level 75000 Pa:fcst time 54 hrs:from 202209301200\n",
            "95:V component of wind:m s**-1 (instant):lambert:isobaricInhPa:level 75000 Pa:fcst time 54 hrs:from 202209301200\n",
            "96:Vertical velocity:Pa s**-1 (instant):lambert:isobaricInhPa:level 75000 Pa:fcst time 54 hrs:from 202209301200\n",
            "97:4:4 (instant):lambert:isobaricInhPa:level 75000 Pa:fcst time 54 hrs:from 202209301200\n",
            "98:Total Cloud Cover:% (instant):lambert:isobaricInhPa:level 75000 Pa:fcst time 54 hrs:from 202209301200\n",
            "99:Geopotential height:gpm (instant):lambert:isobaricInhPa:level 80000 Pa:fcst time 54 hrs:from 202209301200\n",
            "100:Temperature:K (instant):lambert:isobaricInhPa:level 80000 Pa:fcst time 54 hrs:from 202209301200\n",
            "101:Dew point temperature:K (instant):lambert:isobaricInhPa:level 80000 Pa:fcst time 54 hrs:from 202209301200\n",
            "102:Relative humidity:% (instant):lambert:isobaricInhPa:level 80000 Pa:fcst time 54 hrs:from 202209301200\n",
            "103:U component of wind:m s**-1 (instant):lambert:isobaricInhPa:level 80000 Pa:fcst time 54 hrs:from 202209301200\n",
            "104:V component of wind:m s**-1 (instant):lambert:isobaricInhPa:level 80000 Pa:fcst time 54 hrs:from 202209301200\n",
            "105:Vertical velocity:Pa s**-1 (instant):lambert:isobaricInhPa:level 80000 Pa:fcst time 54 hrs:from 202209301200\n",
            "106:4:4 (instant):lambert:isobaricInhPa:level 80000 Pa:fcst time 54 hrs:from 202209301200\n",
            "107:Total Cloud Cover:% (instant):lambert:isobaricInhPa:level 80000 Pa:fcst time 54 hrs:from 202209301200\n",
            "108:Geopotential height:gpm (instant):lambert:isobaricInhPa:level 82500 Pa:fcst time 54 hrs:from 202209301200\n",
            "109:Temperature:K (instant):lambert:isobaricInhPa:level 82500 Pa:fcst time 54 hrs:from 202209301200\n",
            "110:Dew point temperature:K (instant):lambert:isobaricInhPa:level 82500 Pa:fcst time 54 hrs:from 202209301200\n",
            "111:Relative humidity:% (instant):lambert:isobaricInhPa:level 82500 Pa:fcst time 54 hrs:from 202209301200\n",
            "112:U component of wind:m s**-1 (instant):lambert:isobaricInhPa:level 82500 Pa:fcst time 54 hrs:from 202209301200\n",
            "113:V component of wind:m s**-1 (instant):lambert:isobaricInhPa:level 82500 Pa:fcst time 54 hrs:from 202209301200\n",
            "114:Vertical velocity:Pa s**-1 (instant):lambert:isobaricInhPa:level 82500 Pa:fcst time 54 hrs:from 202209301200\n",
            "115:4:4 (instant):lambert:isobaricInhPa:level 82500 Pa:fcst time 54 hrs:from 202209301200\n",
            "116:Total Cloud Cover:% (instant):lambert:isobaricInhPa:level 82500 Pa:fcst time 54 hrs:from 202209301200\n",
            "117:Geopotential height:gpm (instant):lambert:isobaricInhPa:level 85000 Pa:fcst time 54 hrs:from 202209301200\n",
            "118:Temperature:K (instant):lambert:isobaricInhPa:level 85000 Pa:fcst time 54 hrs:from 202209301200\n",
            "119:Dew point temperature:K (instant):lambert:isobaricInhPa:level 85000 Pa:fcst time 54 hrs:from 202209301200\n",
            "120:Relative humidity:% (instant):lambert:isobaricInhPa:level 85000 Pa:fcst time 54 hrs:from 202209301200\n",
            "121:U component of wind:m s**-1 (instant):lambert:isobaricInhPa:level 85000 Pa:fcst time 54 hrs:from 202209301200\n",
            "122:V component of wind:m s**-1 (instant):lambert:isobaricInhPa:level 85000 Pa:fcst time 54 hrs:from 202209301200\n",
            "123:Vertical velocity:Pa s**-1 (instant):lambert:isobaricInhPa:level 85000 Pa:fcst time 54 hrs:from 202209301200\n",
            "124:4:4 (instant):lambert:isobaricInhPa:level 85000 Pa:fcst time 54 hrs:from 202209301200\n",
            "125:Total Cloud Cover:% (instant):lambert:isobaricInhPa:level 85000 Pa:fcst time 54 hrs:from 202209301200\n",
            "126:Geopotential height:gpm (instant):lambert:isobaricInhPa:level 87500 Pa:fcst time 54 hrs:from 202209301200\n",
            "127:Temperature:K (instant):lambert:isobaricInhPa:level 87500 Pa:fcst time 54 hrs:from 202209301200\n",
            "128:Dew point temperature:K (instant):lambert:isobaricInhPa:level 87500 Pa:fcst time 54 hrs:from 202209301200\n",
            "129:Relative humidity:% (instant):lambert:isobaricInhPa:level 87500 Pa:fcst time 54 hrs:from 202209301200\n",
            "130:U component of wind:m s**-1 (instant):lambert:isobaricInhPa:level 87500 Pa:fcst time 54 hrs:from 202209301200\n",
            "131:V component of wind:m s**-1 (instant):lambert:isobaricInhPa:level 87500 Pa:fcst time 54 hrs:from 202209301200\n",
            "132:Vertical velocity:Pa s**-1 (instant):lambert:isobaricInhPa:level 87500 Pa:fcst time 54 hrs:from 202209301200\n",
            "133:4:4 (instant):lambert:isobaricInhPa:level 87500 Pa:fcst time 54 hrs:from 202209301200\n",
            "134:Total Cloud Cover:% (instant):lambert:isobaricInhPa:level 87500 Pa:fcst time 54 hrs:from 202209301200\n",
            "135:Geopotential height:gpm (instant):lambert:isobaricInhPa:level 90000 Pa:fcst time 54 hrs:from 202209301200\n",
            "136:Temperature:K (instant):lambert:isobaricInhPa:level 90000 Pa:fcst time 54 hrs:from 202209301200\n",
            "137:Dew point temperature:K (instant):lambert:isobaricInhPa:level 90000 Pa:fcst time 54 hrs:from 202209301200\n",
            "138:Relative humidity:% (instant):lambert:isobaricInhPa:level 90000 Pa:fcst time 54 hrs:from 202209301200\n",
            "139:U component of wind:m s**-1 (instant):lambert:isobaricInhPa:level 90000 Pa:fcst time 54 hrs:from 202209301200\n",
            "140:V component of wind:m s**-1 (instant):lambert:isobaricInhPa:level 90000 Pa:fcst time 54 hrs:from 202209301200\n",
            "141:Vertical velocity:Pa s**-1 (instant):lambert:isobaricInhPa:level 90000 Pa:fcst time 54 hrs:from 202209301200\n",
            "142:4:4 (instant):lambert:isobaricInhPa:level 90000 Pa:fcst time 54 hrs:from 202209301200\n",
            "143:Total Cloud Cover:% (instant):lambert:isobaricInhPa:level 90000 Pa:fcst time 54 hrs:from 202209301200\n",
            "144:Geopotential height:gpm (instant):lambert:isobaricInhPa:level 92500 Pa:fcst time 54 hrs:from 202209301200\n",
            "145:Temperature:K (instant):lambert:isobaricInhPa:level 92500 Pa:fcst time 54 hrs:from 202209301200\n",
            "146:Dew point temperature:K (instant):lambert:isobaricInhPa:level 92500 Pa:fcst time 54 hrs:from 202209301200\n",
            "147:Relative humidity:% (instant):lambert:isobaricInhPa:level 92500 Pa:fcst time 54 hrs:from 202209301200\n",
            "148:U component of wind:m s**-1 (instant):lambert:isobaricInhPa:level 92500 Pa:fcst time 54 hrs:from 202209301200\n",
            "149:V component of wind:m s**-1 (instant):lambert:isobaricInhPa:level 92500 Pa:fcst time 54 hrs:from 202209301200\n",
            "150:Vertical velocity:Pa s**-1 (instant):lambert:isobaricInhPa:level 92500 Pa:fcst time 54 hrs:from 202209301200\n",
            "151:4:4 (instant):lambert:isobaricInhPa:level 92500 Pa:fcst time 54 hrs:from 202209301200\n",
            "152:Total Cloud Cover:% (instant):lambert:isobaricInhPa:level 92500 Pa:fcst time 54 hrs:from 202209301200\n",
            "153:Geopotential height:gpm (instant):lambert:isobaricInhPa:level 95000 Pa:fcst time 54 hrs:from 202209301200\n",
            "154:Temperature:K (instant):lambert:isobaricInhPa:level 95000 Pa:fcst time 54 hrs:from 202209301200\n",
            "155:Dew point temperature:K (instant):lambert:isobaricInhPa:level 95000 Pa:fcst time 54 hrs:from 202209301200\n",
            "156:Relative humidity:% (instant):lambert:isobaricInhPa:level 95000 Pa:fcst time 54 hrs:from 202209301200\n",
            "157:U component of wind:m s**-1 (instant):lambert:isobaricInhPa:level 95000 Pa:fcst time 54 hrs:from 202209301200\n",
            "158:V component of wind:m s**-1 (instant):lambert:isobaricInhPa:level 95000 Pa:fcst time 54 hrs:from 202209301200\n",
            "159:Vertical velocity:Pa s**-1 (instant):lambert:isobaricInhPa:level 95000 Pa:fcst time 54 hrs:from 202209301200\n",
            "160:4:4 (instant):lambert:isobaricInhPa:level 95000 Pa:fcst time 54 hrs:from 202209301200\n",
            "161:Total Cloud Cover:% (instant):lambert:isobaricInhPa:level 95000 Pa:fcst time 54 hrs:from 202209301200\n",
            "162:Geopotential height:gpm (instant):lambert:isobaricInhPa:level 97500 Pa:fcst time 54 hrs:from 202209301200\n",
            "163:Temperature:K (instant):lambert:isobaricInhPa:level 97500 Pa:fcst time 54 hrs:from 202209301200\n",
            "164:Dew point temperature:K (instant):lambert:isobaricInhPa:level 97500 Pa:fcst time 54 hrs:from 202209301200\n",
            "165:Relative humidity:% (instant):lambert:isobaricInhPa:level 97500 Pa:fcst time 54 hrs:from 202209301200\n",
            "166:U component of wind:m s**-1 (instant):lambert:isobaricInhPa:level 97500 Pa:fcst time 54 hrs:from 202209301200\n",
            "167:V component of wind:m s**-1 (instant):lambert:isobaricInhPa:level 97500 Pa:fcst time 54 hrs:from 202209301200\n",
            "168:Vertical velocity:Pa s**-1 (instant):lambert:isobaricInhPa:level 97500 Pa:fcst time 54 hrs:from 202209301200\n",
            "169:4:4 (instant):lambert:isobaricInhPa:level 97500 Pa:fcst time 54 hrs:from 202209301200\n",
            "170:Total Cloud Cover:% (instant):lambert:isobaricInhPa:level 97500 Pa:fcst time 54 hrs:from 202209301200\n",
            "171:Geopotential height:gpm (instant):lambert:isobaricInhPa:level 100000 Pa:fcst time 54 hrs:from 202209301200\n",
            "172:Temperature:K (instant):lambert:isobaricInhPa:level 100000 Pa:fcst time 54 hrs:from 202209301200\n",
            "173:Dew point temperature:K (instant):lambert:isobaricInhPa:level 100000 Pa:fcst time 54 hrs:from 202209301200\n",
            "174:Relative humidity:% (instant):lambert:isobaricInhPa:level 100000 Pa:fcst time 54 hrs:from 202209301200\n",
            "175:U component of wind:m s**-1 (instant):lambert:isobaricInhPa:level 100000 Pa:fcst time 54 hrs:from 202209301200\n",
            "176:V component of wind:m s**-1 (instant):lambert:isobaricInhPa:level 100000 Pa:fcst time 54 hrs:from 202209301200\n",
            "177:Vertical velocity:Pa s**-1 (instant):lambert:isobaricInhPa:level 100000 Pa:fcst time 54 hrs:from 202209301200\n",
            "178:4:4 (instant):lambert:isobaricInhPa:level 100000 Pa:fcst time 54 hrs:from 202209301200\n",
            "179:Total Cloud Cover:% (instant):lambert:isobaricInhPa:level 100000 Pa:fcst time 54 hrs:from 202209301200\n",
            "180:Geopotential height:gpm (instant):lambert:isobaricInhPa:level 101325 Pa:fcst time 54 hrs:from 202209301200\n",
            "181:Temperature:K (instant):lambert:isobaricInhPa:level 101325 Pa:fcst time 54 hrs:from 202209301200\n",
            "182:Dew point temperature:K (instant):lambert:isobaricInhPa:level 101325 Pa:fcst time 54 hrs:from 202209301200\n",
            "183:Relative humidity:% (instant):lambert:isobaricInhPa:level 101325 Pa:fcst time 54 hrs:from 202209301200\n",
            "184:U component of wind:m s**-1 (instant):lambert:isobaricInhPa:level 101325 Pa:fcst time 54 hrs:from 202209301200\n",
            "185:V component of wind:m s**-1 (instant):lambert:isobaricInhPa:level 101325 Pa:fcst time 54 hrs:from 202209301200\n",
            "186:Vertical velocity:Pa s**-1 (instant):lambert:isobaricInhPa:level 101325 Pa:fcst time 54 hrs:from 202209301200\n",
            "187:4:4 (instant):lambert:isobaricInhPa:level 101325 Pa:fcst time 54 hrs:from 202209301200\n",
            "188:Total Cloud Cover:% (instant):lambert:isobaricInhPa:level 101325 Pa:fcst time 54 hrs:from 202209301200\n",
            "189:Density:kg m**-3 (instant):lambert:heightAboveGround:level 80 m:fcst time 54 hrs:from 202209301200\n",
            "190:4:4 (instant):lambert:heightAboveGround:level 1000 m:fcst time 54 hrs:from 202209301200\n",
            "191:4:4 (max):lambert:heightAboveGround:level 1000 m:fcst time 53-54 hrs (max):from 202209301200\n",
            "192:4:4 (instant):lambert:heightAboveGround:level 2000 m:fcst time 54 hrs:from 202209301200\n",
            "193:4:4 (max):lambert:heightAboveGround:level 2000 m:fcst time 53-54 hrs (max):from 202209301200\n",
            "194:4:4 (instant):lambert:heightAboveGround:level 3000 m:fcst time 54 hrs:from 202209301200\n",
            "195:4:4 (max):lambert:heightAboveGround:level 3000 m:fcst time 53-54 hrs (max):from 202209301200\n",
            "196:4:4 (instant):lambert:heightAboveGround:level 4000 m:fcst time 54 hrs:from 202209301200\n",
            "197:4:4 (max):lambert:heightAboveGround:level 4000 m:fcst time 53-54 hrs (max):from 202209301200\n",
            "198:4:4 (instant):lambert:heightAboveGround:level 5000 m:fcst time 54 hrs:from 202209301200\n",
            "199:4:4 (max):lambert:heightAboveGround:level 5000 m:fcst time 53-54 hrs (max):from 202209301200\n",
            "200:4:4 (instant):lambert:heightAboveGround:level 6000 m:fcst time 54 hrs:from 202209301200\n",
            "201:4:4 (max):lambert:heightAboveGround:level 6000 m:fcst time 53-54 hrs (max):from 202209301200\n",
            "202:Storm relative helicity:m**2 s**-2 (instant):lambert:heightAboveGroundLayer:levels 0-1000 m:fcst time 54 hrs:from 202209301200\n",
            "203:Storm relative helicity:m**2 s**-2 (instant):lambert:heightAboveGroundLayer:levels 0-3000 m:fcst time 54 hrs:from 202209301200\n",
            "204:Storm relative helicity:m**2 s**-2 (instant):lambert:heightAboveGroundLayer:levels 0-6000 m:fcst time 54 hrs:from 202209301200\n",
            "205:U-component storm motion:m s**-1 (instant):lambert:heightAboveGroundLayer:levels 0-6000 m:fcst time 54 hrs:from 202209301200\n",
            "206:V-component storm motion:m s**-1 (instant):lambert:heightAboveGroundLayer:levels 0-6000 m:fcst time 54 hrs:from 202209301200\n",
            "207:220:220 (max):lambert:pressureFromGroundLayer:levels 40000-100000 Pa:fcst time 53-54 hrs (max):from 202209301200\n",
            "208:221:221 (max):lambert:pressureFromGroundLayer:levels 40000-100000 Pa:fcst time 53-54 hrs (max):from 202209301200\n",
            "209:15:15 (instant):lambert:heightAboveGroundLayer:levels 2000-5000 m:fcst time 54 hrs:from 202209301200\n",
            "210:15:15 (max):lambert:heightAboveGroundLayer:levels 2000-5000 m:fcst time 53-54 hrs (max):from 202209301200\n",
            "211:15:15 (max):lambert:heightAboveGroundLayer:levels 1000-6000 m:fcst time 53-54 hrs (max):from 202209301200\n",
            "212:15:15 (instant):lambert:heightAboveGroundLayer:levels 1000-6000 m:fcst time 54 hrs:from 202209301200\n",
            "213:Convective available potential energy:J kg**-1 (instant):lambert:surface:level 0:fcst time 54 hrs:from 202209301200\n",
            "214:Convective inhibition:J kg**-1 (instant):lambert:surface:level 0:fcst time 54 hrs:from 202209301200\n",
            "215:Convective available potential energy:J kg**-1 (instant):lambert:pressureFromGroundLayer:levels 9000-0 Pa:fcst time 54 hrs:from 202209301200\n",
            "216:Convective inhibition:J kg**-1 (instant):lambert:pressureFromGroundLayer:levels 9000-0 Pa:fcst time 54 hrs:from 202209301200\n",
            "217:Convective available potential energy:J kg**-1 (instant):lambert:pressureFromGroundLayer:levels 25500-0 Pa:fcst time 54 hrs:from 202209301200\n",
            "218:Convective inhibition:J kg**-1 (instant):lambert:pressureFromGroundLayer:levels 25500-0 Pa:fcst time 54 hrs:from 202209301200\n",
            "219:Geopotential height:gpm (instant):lambert:equilibrium:level 0:fcst time 54 hrs:from 202209301200\n",
            "220:Lightning:dimensionless (instant):lambert:surface:level 0:fcst time 54 hrs:from 202209301200\n",
            "221:Precipitable water:kg m**-2 (instant):lambert:atmosphere:level 0 -:fcst time 54 hrs:from 202209301200\n",
            "222:74:74 (instant):lambert:atmosphere:level 0 -:fcst time 54 hrs:from 202209301200\n",
            "223:Total column-integrated condensate:kg m**-2 (instant):lambert:atmosphere:level 0 -:fcst time 54 hrs:from 202209301200\n",
            "224:Total Cloud Cover:% (instant):lambert:atmosphere:level 0 -:fcst time 54 hrs:from 202209301200\n",
            "225:74:74 (max):lambert:atmosphere:level 0 -:fcst time 53-54 hrs (max):from 202209301200\n",
            "226:Forecast albedo:% (instant):lambert:surface:level 0:fcst time 54 hrs:from 202209301200\n",
            "227:Ground heat flux:W m**-2 (instant):lambert:surface:level 0:fcst time 54 hrs:from 202209301200\n",
            "228:Instantaneous surface sensible heat flux:W m**-2 (instant):lambert:surface:level 0:fcst time 54 hrs:from 202209301200\n",
            "229:Latent heat net flux:W m**-2 (instant):lambert:surface:level 0:fcst time 54 hrs:from 202209301200\n",
            "230:Latitude (-90 to +90):deg (instant):lambert:surface:level 0:fcst time 54 hrs:from 202209301200\n",
            "231:East Longitude (0 - 360):deg (instant):lambert:surface:level 0:fcst time 54 hrs:from 202209301200\n",
            "232:Land-sea mask:(0 - 1) (instant):lambert:surface:level 0:fcst time 54 hrs:from 202209301200\n",
            "233:Surface pressure:Pa (instant):lambert:surface:level 0:fcst time 54 hrs:from 202209301200\n",
            "234:Orography:m (instant):lambert:surface:level 0:fcst time 54 hrs:from 202209301200\n",
            "235:Temperature:K (instant):lambert:surface:level 0:fcst time 54 hrs:from 202209301200\n",
            "236:Water equivalent of accumulated snow depth (deprecated):kg m**-2 (instant):lambert:surface:level 0:fcst time 54 hrs:from 202209301200\n",
            "237:Soil temperature:K (instant):lambert:depthBelowLandLayer:levels 0.0-0.1 m:fcst time 54 hrs:from 202209301200\n",
            "238:Volumetric soil moisture content:Proportion (instant):lambert:depthBelowLandLayer:levels 0.0-0.1 m:fcst time 54 hrs:from 202209301200\n",
            "239:Soil temperature:K (instant):lambert:depthBelowLandLayer:levels 0.1-0.4 m:fcst time 54 hrs:from 202209301200\n",
            "240:Volumetric soil moisture content:Proportion (instant):lambert:depthBelowLandLayer:levels 0.1-0.4 m:fcst time 54 hrs:from 202209301200\n",
            "241:Soil temperature:K (instant):lambert:depthBelowLandLayer:levels 0.4-1.0 m:fcst time 54 hrs:from 202209301200\n",
            "242:Volumetric soil moisture content:Proportion (instant):lambert:depthBelowLandLayer:levels 0.4-1.0 m:fcst time 54 hrs:from 202209301200\n",
            "243:Soil temperature:K (instant):lambert:depthBelowLandLayer:levels 1.0-2.0 m:fcst time 54 hrs:from 202209301200\n",
            "244:Volumetric soil moisture content:Proportion (instant):lambert:depthBelowLandLayer:levels 1.0-2.0 m:fcst time 54 hrs:from 202209301200\n",
            "245:Vegetation:% (instant):lambert:surface:level 0:fcst time 54 hrs:from 202209301200\n",
            "246:5:5 (instant):lambert:atmosphere:level 0 -:fcst time 54 hrs:from 202209301200\n",
            "247:5:5 (max):lambert:atmosphere:level 0 -:fcst time 53-54 hrs (max):from 202209301200\n",
            "248:3:3 (instant):lambert:atmosphere:level 0 -:fcst time 54 hrs:from 202209301200\n",
            "249:3:3 (max):lambert:atmosphere:level 0 -:fcst time 53-54 hrs (max):from 202209301200\n",
            "250:Pressure reduced to MSL:Pa (instant):lambert:meanSea:level 0:fcst time 54 hrs:from 202209301200\n",
            "251:2 metre temperature:K (instant):lambert:heightAboveGround:level 2 m:fcst time 54 hrs:from 202209301200\n",
            "252:Maximum temperature:K (max):lambert:heightAboveGround:level 2 m:fcst time 53-54 hrs (max):from 202209301200\n",
            "253:Minimum temperature:K (min):lambert:heightAboveGround:level 2 m:fcst time 53-54 hrs (min):from 202209301200\n",
            "254:Potential temperature:K (instant):lambert:heightAboveGround:level 2 m:fcst time 54 hrs:from 202209301200\n",
            "255:Pseudo-adiabatic potential temperature:K (instant):lambert:heightAboveGround:level 2 m:fcst time 54 hrs:from 202209301200\n",
            "256:2 metre dewpoint temperature:K (instant):lambert:heightAboveGround:level 2 m:fcst time 54 hrs:from 202209301200\n",
            "257:2 metre relative humidity:% (instant):lambert:heightAboveGround:level 2 m:fcst time 54 hrs:from 202209301200\n",
            "258:Maximum relative humidity:% (max):lambert:heightAboveGround:level 2 m:fcst time 53-54 hrs (max):from 202209301200\n",
            "259:Minimum Relative Humidity:% (min):lambert:heightAboveGround:level 2 m:fcst time 53-54 hrs (min):from 202209301200\n",
            "260:Humidity mixing ratio:kg kg-1 (instant):lambert:heightAboveGround:level 2 m:fcst time 54 hrs:from 202209301200\n",
            "261:10 metre U wind component:m s**-1 (instant):lambert:heightAboveGround:level 10 m:fcst time 54 hrs:from 202209301200\n",
            "262:10 metre V wind component:m s**-1 (instant):lambert:heightAboveGround:level 10 m:fcst time 54 hrs:from 202209301200\n",
            "263:Instantaneous 10 metre wind gust:m s**-1 (instant):lambert:heightAboveGround:level 10 m:fcst time 54 hrs:from 202209301200\n",
            "264:10 metre wind speed:m s**-1 (max):lambert:heightAboveGround:level 10 m:fcst time 53-54 hrs (max):from 202209301200\n",
            "265:Visibility:m (instant):lambert:surface:level 0:fcst time 54 hrs:from 202209301200\n",
            "266:Total Precipitation:kg m**-2 (accum):lambert:surface:level 0:fcst time 0-54 hrs (accum):from 202209301200\n",
            "267:Condensation Pressure of Parcali Lifted From Indicate Surface:Pa (accum):lambert:surface:level 0:fcst time 0-54 hrs (accum):from 202209301200\n",
            "268:Large scale moistening rate:kg (kg s**-1)**-1 (accum):lambert:surface:level 0:fcst time 0-54 hrs (accum):from 202209301200\n",
            "269:Minimum specific humidity at 2m:kg kg**-1 (instant):lambert:surface:level 0:fcst time 54 hrs:from 202209301200\n",
            "270:230:230 (max):lambert:surface:level 0:fcst time 53-54 hrs (max):from 202209301200\n",
            "271:201:201 (instant):lambert:surface:level 0:fcst time 54 hrs:from 202209301200\n"
          ]
        }
      ]
    }
  ]
}